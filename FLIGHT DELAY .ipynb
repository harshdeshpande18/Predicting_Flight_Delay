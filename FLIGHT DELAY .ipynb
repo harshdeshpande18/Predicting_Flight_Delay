{
 "cells": [
  {
   "cell_type": "code",
   "execution_count": 23,
   "metadata": {},
   "outputs": [],
   "source": [
    "import numpy as np\n",
    "import pandas as pd\n",
    "import matplotlib.pyplot as plt\n",
    "import re\n",
    "import math\n",
    "from sklearn.preprocessing import OneHotEncoder as oe"
   ]
  },
  {
   "cell_type": "code",
   "execution_count": 25,
   "metadata": {},
   "outputs": [],
   "source": [
    "data = pd.read_csv(\"Dataset.csv\")"
   ]
  },
  {
   "cell_type": "code",
   "execution_count": 26,
   "metadata": {},
   "outputs": [
    {
     "name": "stdout",
     "output_type": "stream",
     "text": [
      "        Used Date From   To   Airline Scheduled Departure  SDEP Departure  \\\n",
      "0      31-01-2020  DEL  HYD  Air Asia                6:05   605      6:04   \n",
      "1      31-01-2020  DEL  HYD    Indigo                4:50   450      4:36   \n",
      "2      30-01-2020  DEL  HYD  Air Asia                6:05   605      5:54   \n",
      "3      30-01-2020  DEL  HYD  Air Asia               17:40  1740     17:40   \n",
      "4      30-01-2020  DEL  HYD  Air Asia               19:50  1950     19:54   \n",
      "...           ...  ...  ...       ...                 ...   ...       ...   \n",
      "10713  24-01-2019  CCU  DEL  SpiceJet               18:30  1830     18:30   \n",
      "10714  23-01-2019  CCU  DEL  SpiceJet               18:30  1830     18:30   \n",
      "10715  22-01-2019  CCU  DEL  SpiceJet               18:30  1830     18:38   \n",
      "10716    9/1/2019  DEL  HYD  Spicejet               22:05  2205      0:40   \n",
      "10717    2/1/2019  BOM  DEL   Vistara                1:10   110       130   \n",
      "\n",
      "        DEP Scheduled Arrival  SARR  ... weather__hourly__visibility  \\\n",
      "0       604              8:15   815  ...                           9   \n",
      "1       436              7:00   700  ...                           9   \n",
      "2       554              8:15   815  ...                           9   \n",
      "3      1740             19:55  1955  ...                           9   \n",
      "4      1954             22:10  2210  ...                           9   \n",
      "...     ...               ...   ...  ...                         ...   \n",
      "10713  1830             20:55  2055  ...                          10   \n",
      "10714  1830             20:55  2055  ...                          10   \n",
      "10715  1838             20:55  2055  ...                          10   \n",
      "10716    40              0:25    25  ...                           9   \n",
      "10717   130              3:20   320  ...                          10   \n",
      "\n",
      "       weather__hourly__pressure  weather__hourly__cloudcover  Category  \\\n",
      "0                           1012                           57         0   \n",
      "1                           1012                           57         0   \n",
      "2                           1012                           57         0   \n",
      "3                           1012                           57         0   \n",
      "4                           1012                           57         1   \n",
      "...                          ...                          ...       ...   \n",
      "10713                       1016                            1         0   \n",
      "10714                       1015                            0         0   \n",
      "10715                       1015                            0         1   \n",
      "10716                        997                           85         4   \n",
      "10717                       1018                            0         2   \n",
      "\n",
      "       Unnamed: 29  Unnamed: 30  Unnamed: 31  Date  Month  Year  \n",
      "0              NaN          NaN          NaN    31      1  2020  \n",
      "1              NaN          NaN          NaN    31      1  2020  \n",
      "2              NaN          NaN          NaN    30      1  2020  \n",
      "3              NaN          NaN          NaN    30      1  2020  \n",
      "4              NaN          NaN          NaN    30      1  2020  \n",
      "...            ...          ...          ...   ...    ...   ...  \n",
      "10713          NaN          NaN          NaN    24      1  2019  \n",
      "10714          NaN          NaN          NaN    23      1  2019  \n",
      "10715          NaN          NaN          NaN    22      1  2019  \n",
      "10716          NaN          NaN          NaN     9      1  2019  \n",
      "10717          NaN          NaN          NaN     2      1  2019  \n",
      "\n",
      "[10718 rows x 35 columns]\n"
     ]
    }
   ],
   "source": [
    "l = data['Used Date'][0] \n",
    "temp = re.findall(r'\\d+', l) \n",
    "res = np.array(list(map(int, temp)))    \n",
    "\n",
    "for i in range(1,data.shape[0]):\n",
    "    l = data['Used Date'][i] \n",
    "    temp = re.findall(r'\\d+', l) \n",
    "    a = np.array(list(map(int, temp)))\n",
    "    res = np.concatenate([res,a] , axis = 0) \n",
    "r = np.reshape(res,(-1,3))\n",
    "r.shape\n",
    "d = pd.DataFrame(r)\n",
    "d = d.rename(columns = {0:'Date',1:'Month',2:'Year'})\n",
    "data = pd.concat([data,d],axis = 1)\n",
    "print(data)"
   ]
  },
  {
   "cell_type": "code",
   "execution_count": 5,
   "metadata": {},
   "outputs": [],
   "source": [
    "data = data.drop(['Used Date','Unnamed: 29','Unnamed: 30','Unnamed: 31'],axis = 1)"
   ]
  },
  {
   "cell_type": "code",
   "execution_count": 6,
   "metadata": {},
   "outputs": [],
   "source": [
    "data = pd.get_dummies(data, columns = ['From','To','Airline'])\n",
    "data = data.drop(['From_BLR','To_BOM','Airline_Air Asia'],axis = 1)"
   ]
  },
  {
   "cell_type": "code",
   "execution_count": 7,
   "metadata": {},
   "outputs": [],
   "source": [
    "data = data.drop(7).reset_index(drop = True)"
   ]
  },
  {
   "cell_type": "code",
   "execution_count": 9,
   "metadata": {},
   "outputs": [],
   "source": [
    "l1 = data.index[data['Arrival'] == '-1'].tolist()\n",
    "l2 = data.index[data['Scheduled Arrival'] == '-1'].tolist()\n",
    "\n",
    "data = data.drop(l1).reset_index(drop = True)\n",
    "data = data.drop(l2).reset_index(drop = True)"
   ]
  },
  {
   "cell_type": "code",
   "execution_count": 10,
   "metadata": {},
   "outputs": [],
   "source": [
    "data = data.drop(['SDEP','Departure','DEP','Scheduled Departure'],axis = 1)\n",
    "data = data.drop('Departure Delay',axis = 1)"
   ]
  },
  {
   "cell_type": "code",
   "execution_count": 11,
   "metadata": {},
   "outputs": [
    {
     "name": "stderr",
     "output_type": "stream",
     "text": [
      "C:\\Users\\karti\\anaconda3\\lib\\site-packages\\ipykernel_launcher.py:5: SettingWithCopyWarning: \n",
      "A value is trying to be set on a copy of a slice from a DataFrame\n",
      "\n",
      "See the caveats in the documentation: https://pandas.pydata.org/pandas-docs/stable/user_guide/indexing.html#returning-a-view-versus-a-copy\n",
      "  \"\"\"\n",
      "C:\\Users\\karti\\anaconda3\\lib\\site-packages\\ipykernel_launcher.py:3: SettingWithCopyWarning: \n",
      "A value is trying to be set on a copy of a slice from a DataFrame\n",
      "\n",
      "See the caveats in the documentation: https://pandas.pydata.org/pandas-docs/stable/user_guide/indexing.html#returning-a-view-versus-a-copy\n",
      "  This is separate from the ipykernel package so we can avoid doing imports until\n"
     ]
    }
   ],
   "source": [
    "for i in range(data.shape[0]):\n",
    "    if data['ARR'][i] - math.floor(data['ARR'][i]/100)*100 >= 30:\n",
    "        data['ARR'][i] = math.ceil(data['ARR'][i]/100)\n",
    "    else:\n",
    "        data['ARR'][i] = math.floor(data['ARR'][i]/100)"
   ]
  },
  {
   "cell_type": "code",
   "execution_count": 12,
   "metadata": {},
   "outputs": [],
   "source": [
    "data = data.drop(['Category'],axis = 1)"
   ]
  },
  {
   "cell_type": "code",
   "execution_count": 20,
   "metadata": {},
   "outputs": [],
   "source": [
    "pd.get_dummies(data, columns = ['weather__hourly__weatherDesc__value'])\n",
    "\n",
    "ce_bin = ce.BinaryEncoder(cols = ['weather__hourly__weatherDesc__value'])\n",
    "ce_bin.fit(data,data['Arrival Delay'])\n",
    "\n",
    "d = ce_bin.transform(data)\n",
    "\n",
    "data = d"
   ]
  },
  {
   "cell_type": "code",
   "execution_count": null,
   "metadata": {},
   "outputs": [],
   "source": [
    "from datetime import datetime\n",
    "d = pd.DataFrame(np.zeros((data.shape[0],2)))\n",
    "# arr_t1 = datetime.strptime(data['Arrival'][0],'%H:%M')\n",
    "# arr_t2 = datetime.strptime(data['Scheduled Arrival'][0],'%H:%M')\n",
    "# diff = arr_t1 - arr_t2   \n",
    "# diff = str(diff)\n",
    "# d.append(diff)\n",
    "# print(type(diff))\n",
    "print(d)\n",
    "for i in range(data.shape[0]):\n",
    "    arr_t1 = datetime.strptime(data['Arrival'][i],'%H:%M')\n",
    "    arr_t2 = datetime.strptime(data['Scheduled Arrival'][i],'%H:%M')\n",
    "    if arr_t1 >= arr_t2:\n",
    "        dif = str(arr_t1 - arr_t2)\n",
    "        print(arr_t1,arr_t2)\n",
    "        print(i,dif)\n",
    "        print('\\n')\n",
    "        d[0][i] = dif\n",
    "    if arr_t1 < arr_t2:\n",
    "        dif = str(arr_t2 - arr_t1)\n",
    "        print(arr_t1,arr_t2)\n",
    "        print(i,dif)\n",
    "        print('\\n')\n",
    "        d[0][i] = dif\n",
    "        d[1][i] = 1\n",
    "        \n",
    "    \n"
   ]
  },
  {
   "cell_type": "code",
   "execution_count": 122,
   "metadata": {},
   "outputs": [
    {
     "name": "stderr",
     "output_type": "stream",
     "text": [
      "c:\\users\\user\\appdata\\local\\programs\\python\\python37\\lib\\site-packages\\ipykernel_launcher.py:6: SettingWithCopyWarning: \n",
      "A value is trying to be set on a copy of a slice from a DataFrame\n",
      "\n",
      "See the caveats in the documentation: http://pandas.pydata.org/pandas-docs/stable/user_guide/indexing.html#returning-a-view-versus-a-copy\n",
      "  \n"
     ]
    }
   ],
   "source": [
    "for i in range(data.shape[0]):\n",
    "    temp = re.findall(r'\\d+', d[0][i]) \n",
    "    res = np.array(list(map(int, temp))).tolist()\n",
    "    mins = res[0]*60 + res[1]\n",
    "    if d[1][i] == 0:\n",
    "        data['Arrival Delay'][i] = mins\n",
    "    if d[1][i] == -1:\n",
    "        data['Arrival Delay'][i] = -mins\n",
    "    \n"
   ]
  },
  {
   "cell_type": "code",
   "execution_count": 123,
   "metadata": {},
   "outputs": [],
   "source": [
    "Out = data.index[data['Arrival Delay'] > 300].tolist()\n",
    "data = data.drop(Out).reset_index(drop = True)\n",
    "\n",
    "data = data.drop(['Scheduled Arrival','Arrival'], axis = 1)"
   ]
  },
  {
   "cell_type": "code",
   "execution_count": 124,
   "metadata": {},
   "outputs": [],
   "source": [
    "data = data.drop(['SARR'],axis = 1)"
   ]
  },
  {
   "cell_type": "code",
   "execution_count": 125,
   "metadata": {},
   "outputs": [],
   "source": [
    "data_noweather = data.drop(['weather__hourly__windspeedKmph',\n",
    "       'weather__hourly__weatherDesc__value_0',\n",
    "       'weather__hourly__weatherDesc__value_1',\n",
    "       'weather__hourly__weatherDesc__value_2',\n",
    "       'weather__hourly__weatherDesc__value_3',\n",
    "       'weather__hourly__weatherDesc__value_4',\n",
    "       'weather__hourly__weatherDesc__value_5', 'weather__hourly__precipMM',\n",
    "       'weather__hourly__humidity', 'weather__hourly__visibility',\n",
    "       'weather__hourly__pressure', 'weather__hourly__cloudcover'], axis = 1)"
   ]
  },
  {
   "cell_type": "code",
   "execution_count": 126,
   "metadata": {},
   "outputs": [
    {
     "name": "stderr",
     "output_type": "stream",
     "text": [
      "c:\\users\\user\\appdata\\local\\programs\\python\\python37\\lib\\site-packages\\ipykernel_launcher.py:12: SettingWithCopyWarning: \n",
      "A value is trying to be set on a copy of a slice from a DataFrame\n",
      "\n",
      "See the caveats in the documentation: http://pandas.pydata.org/pandas-docs/stable/user_guide/indexing.html#returning-a-view-versus-a-copy\n",
      "  if sys.path[0] == '':\n"
     ]
    }
   ],
   "source": [
    "ser = pd.DataFrame(np.zeros((data.shape[0],1)),columns = {\"Holiday\"})\n",
    "\n",
    "data = pd.concat([data,ser],axis = 1)\n",
    "\n",
    "Holidays = [\"15-01-2019\",\"26-01-2019\",\"21-02-2019\",\"10-03-2019\",\"06-04-2019\",\"25-05-2019\",\"15-08-2019\",\"22-08-2019\",\"02-10-2019\",\"25-10-2019\",\"24-10-2019\",\"14-11-2019\",\"25-12-2019\",\"26-01-2020\"]      \n",
    "\n",
    "for i in range(data.shape[0]):\n",
    "    for j in Holidays:\n",
    "        temp = re.findall(r'\\d+', j) \n",
    "        res = np.array(list(map(int, temp))).tolist()\n",
    "        if data['Date'][i] == res[0] and data['Month'][i] == res[1] and data['Year'][i] == res[2]:\n",
    "            data['Holiday'][i] = 1\n",
    "    "
   ]
  },
  {
   "cell_type": "code",
   "execution_count": 203,
   "metadata": {},
   "outputs": [],
   "source": [
    "from sklearn.model_selection import train_test_split as tts\n",
    "X_train, X_test, y_train, y_test = tts(data.drop('Arrival Delay', axis = 1),data['Arrival Delay'], test_size = 0.2, random_state = 2)"
   ]
  },
  {
   "cell_type": "code",
   "execution_count": 164,
   "metadata": {},
   "outputs": [
    {
     "name": "stdout",
     "output_type": "stream",
     "text": [
      "(8394, 22)\n",
      "(2099, 22)\n",
      "(8394,)\n",
      "(2099,)\n"
     ]
    }
   ],
   "source": [
    "print(X_train.shape)\n",
    "print(X_test.shape)\n",
    "print(y_train.shape)\n",
    "print(y_test.shape)"
   ]
  },
  {
   "cell_type": "code",
   "execution_count": 175,
   "metadata": {},
   "outputs": [
    {
     "name": "stdout",
     "output_type": "stream",
     "text": [
      "0.7271086567364917\n",
      "0.25733963071454435\n"
     ]
    }
   ],
   "source": [
    "from sklearn.ensemble import RandomForestClassifier\n",
    "\n",
    "\n",
    "xgb = RandomForestClassifier(n_estimators = 100,min_samples_split = 6,max_features = 20,n_jobs = -1,random_state = 1)\n",
    "\n",
    "xgb.fit(X_train,y_train)\n",
    "y_pred_train = xgb.predict(X_train)\n",
    "y_pred_test = xgb.predict(X_test)\n",
    "print(r2_score(y_pred_train,y_train))\n",
    "print(r2_score(y_pred_test,y_test))"
   ]
  },
  {
   "cell_type": "code",
   "execution_count": 176,
   "metadata": {},
   "outputs": [
    {
     "data": {
      "image/png": "[encoded data removed]",
      "text/plain": [
       "<Figure size 432x288 with 1 Axes>"
      ]
     },
     "metadata": {
      "needs_background": "light"
     },
     "output_type": "display_data"
    }
   ],
   "source": [
    "plt.hist(data['Arrival Delay'])\n",
    "plt.show()"
   ]
  },
  {
   "cell_type": "code",
   "execution_count": 131,
   "metadata": {},
   "outputs": [
    {
     "data": {
      "text/plain": [
       "1"
      ]
     },
     "execution_count": 131,
     "metadata": {},
     "output_type": "execute_result"
    }
   ],
   "source": [
    "xgb.feature_importances_.argmin()"
   ]
  },
  {
   "cell_type": "code",
   "execution_count": 132,
   "metadata": {},
   "outputs": [],
   "source": [
    "data = data.drop(['Status'],axis = 1)\n",
    "data = data.drop(['weather__hourly__windspeedKmph'],axis = 1)"
   ]
  },
  {
   "cell_type": "code",
   "execution_count": 133,
   "metadata": {},
   "outputs": [
    {
     "data": {
      "text/plain": [
       "array([2.90332549e-01, 0.00000000e+00, 5.73420786e-02, 4.00014741e-02,\n",
       "       1.65682100e-02, 2.52535293e-02, 5.15871815e-02, 1.54577741e-02,\n",
       "       6.10812457e-02, 0.00000000e+00, 1.20733076e-04, 3.04834402e-03,\n",
       "       3.14227407e-03, 2.03394525e-03, 3.33412178e-03, 1.13989202e-02,\n",
       "       8.81368713e-02, 6.90119003e-03, 5.44773010e-02, 6.11584568e-02,\n",
       "       9.91427475e-02, 2.06433623e-02, 6.79471524e-03, 4.22789491e-03,\n",
       "       7.03168766e-03, 1.31294534e-02, 1.06445112e-02, 1.70437490e-02,\n",
       "       5.94816914e-04, 9.86531347e-03, 6.61259283e-03, 1.07070241e-03,\n",
       "       9.64863576e-04, 6.04356799e-03, 4.81382172e-03])"
      ]
     },
     "execution_count": 133,
     "metadata": {},
     "output_type": "execute_result"
    }
   ],
   "source": [
    "xgb.feature_importances_"
   ]
  },
  {
   "cell_type": "code",
   "execution_count": 149,
   "metadata": {},
   "outputs": [
    {
     "name": "stderr",
     "output_type": "stream",
     "text": [
      "c:\\users\\user\\appdata\\local\\programs\\python\\python37\\lib\\site-packages\\ipykernel_launcher.py:5: SettingWithCopyWarning: \n",
      "A value is trying to be set on a copy of a slice from a DataFrame\n",
      "\n",
      "See the caveats in the documentation: http://pandas.pydata.org/pandas-docs/stable/user_guide/indexing.html#returning-a-view-versus-a-copy\n",
      "  \"\"\"\n",
      "c:\\users\\user\\appdata\\local\\programs\\python\\python37\\lib\\site-packages\\ipykernel_launcher.py:3: SettingWithCopyWarning: \n",
      "A value is trying to be set on a copy of a slice from a DataFrame\n",
      "\n",
      "See the caveats in the documentation: http://pandas.pydata.org/pandas-docs/stable/user_guide/indexing.html#returning-a-view-versus-a-copy\n",
      "  This is separate from the ipykernel package so we can avoid doing imports until\n",
      "c:\\users\\user\\appdata\\local\\programs\\python\\python37\\lib\\site-packages\\ipykernel_launcher.py:9: SettingWithCopyWarning: \n",
      "A value is trying to be set on a copy of a slice from a DataFrame\n",
      "\n",
      "See the caveats in the documentation: http://pandas.pydata.org/pandas-docs/stable/user_guide/indexing.html#returning-a-view-versus-a-copy\n",
      "  if __name__ == '__main__':\n",
      "c:\\users\\user\\appdata\\local\\programs\\python\\python37\\lib\\site-packages\\ipykernel_launcher.py:7: SettingWithCopyWarning: \n",
      "A value is trying to be set on a copy of a slice from a DataFrame\n",
      "\n",
      "See the caveats in the documentation: http://pandas.pydata.org/pandas-docs/stable/user_guide/indexing.html#returning-a-view-versus-a-copy\n",
      "  import sys\n",
      "c:\\users\\user\\appdata\\local\\programs\\python\\python37\\lib\\site-packages\\ipykernel_launcher.py:13: SettingWithCopyWarning: \n",
      "A value is trying to be set on a copy of a slice from a DataFrame\n",
      "\n",
      "See the caveats in the documentation: http://pandas.pydata.org/pandas-docs/stable/user_guide/indexing.html#returning-a-view-versus-a-copy\n",
      "  del sys.path[0]\n",
      "c:\\users\\user\\appdata\\local\\programs\\python\\python37\\lib\\site-packages\\ipykernel_launcher.py:11: SettingWithCopyWarning: \n",
      "A value is trying to be set on a copy of a slice from a DataFrame\n",
      "\n",
      "See the caveats in the documentation: http://pandas.pydata.org/pandas-docs/stable/user_guide/indexing.html#returning-a-view-versus-a-copy\n",
      "  # This is added back by InteractiveShellApp.init_path()\n"
     ]
    }
   ],
   "source": [
    "for i in range(data.shape[0]):\n",
    "    if data['Arrival Delay'][i] < 0 :\n",
    "        data['Arrival Delay'][i] = -1\n",
    "    if data['Arrival Delay'][i] > 0 and data['Arrival Delay'][i] < 10:\n",
    "        data['Arrival Delay'][i] = 1\n",
    "    if data['Arrival Delay'][i] >= 10 and data['Arrival Delay'][i] < 20:\n",
    "        data['Arrival Delay'][i] = 2\n",
    "    if data['Arrival Delay'][i] >= 20 and data['Arrival Delay'][i] < 30:\n",
    "        data['Arrival Delay'][i] = 3\n",
    "    if data['Arrival Delay'][i] >= 30 and data['Arrival Delay'][i] < 40:\n",
    "        data['Arrival Delay'][i] = 4\n",
    "    if data['Arrival Delay'][i] >= 40: \n",
    "        data['Arrival Delay'][i] = 5    "
   ]
  },
  {
   "cell_type": "code",
   "execution_count": 150,
   "metadata": {},
   "outputs": [
    {
     "data": {
      "text/plain": [
       "-1    3249\n",
       " 0    1613\n",
       " 5    1571\n",
       " 1    1431\n",
       " 2    1223\n",
       " 3     782\n",
       " 4     624\n",
       "Name: Arrival Delay, dtype: int64"
      ]
     },
     "execution_count": 150,
     "metadata": {},
     "output_type": "execute_result"
    }
   ],
   "source": [
    "data['Arrival Delay'].value_counts()"
   ]
  },
  {
   "cell_type": "code",
   "execution_count": 151,
   "metadata": {},
   "outputs": [],
   "source": [
    "def loss_func(y_true,y_pred):\n",
    "    loss = 0\n",
    "    for i in range(y_true.size):\n",
    "        diff = abs(y_true[i] - y_pred[i])\n",
    "        loss += diff\n",
    "    return loss\n",
    "            "
   ]
  },
  {
   "cell_type": "code",
   "execution_count": 178,
   "metadata": {},
   "outputs": [
    {
     "data": {
      "text/html": [
       "<div>\n",
       "<style scoped>\n",
       "    .dataframe tbody tr th:only-of-type {\n",
       "        vertical-align: middle;\n",
       "    }\n",
       "\n",
       "    .dataframe tbody tr th {\n",
       "        vertical-align: top;\n",
       "    }\n",
       "\n",
       "    .dataframe thead th {\n",
       "        text-align: right;\n",
       "    }\n",
       "</style>\n",
       "<table border=\"1\" class=\"dataframe\">\n",
       "  <thead>\n",
       "    <tr style=\"text-align: right;\">\n",
       "      <th></th>\n",
       "      <th>ARR</th>\n",
       "      <th>Status</th>\n",
       "      <th>Distance</th>\n",
       "      <th>Passenger Load Factor</th>\n",
       "      <th>Airline Rating</th>\n",
       "      <th>Airport Rating</th>\n",
       "      <th>Market Share</th>\n",
       "      <th>OTP Index</th>\n",
       "      <th>Date</th>\n",
       "      <th>Month</th>\n",
       "      <th>...</th>\n",
       "      <th>From_CCU</th>\n",
       "      <th>From_DEL</th>\n",
       "      <th>To_DEL</th>\n",
       "      <th>To_HYD</th>\n",
       "      <th>Airline_Air India</th>\n",
       "      <th>Airline_Go Air</th>\n",
       "      <th>Airline_Indigo</th>\n",
       "      <th>Airline_SpiceJet</th>\n",
       "      <th>Airline_Spicejet</th>\n",
       "      <th>Airline_Vistara</th>\n",
       "    </tr>\n",
       "  </thead>\n",
       "  <tbody>\n",
       "    <tr>\n",
       "      <td>5489</td>\n",
       "      <td>23</td>\n",
       "      <td>1</td>\n",
       "      <td>1736</td>\n",
       "      <td>90.1</td>\n",
       "      <td>0.7</td>\n",
       "      <td>0.90</td>\n",
       "      <td>47.5</td>\n",
       "      <td>81.1</td>\n",
       "      <td>4</td>\n",
       "      <td>12</td>\n",
       "      <td>...</td>\n",
       "      <td>0</td>\n",
       "      <td>0</td>\n",
       "      <td>1</td>\n",
       "      <td>0</td>\n",
       "      <td>0</td>\n",
       "      <td>0</td>\n",
       "      <td>1</td>\n",
       "      <td>0</td>\n",
       "      <td>0</td>\n",
       "      <td>0</td>\n",
       "    </tr>\n",
       "    <tr>\n",
       "      <td>9969</td>\n",
       "      <td>3</td>\n",
       "      <td>1</td>\n",
       "      <td>1736</td>\n",
       "      <td>90.0</td>\n",
       "      <td>0.4</td>\n",
       "      <td>0.90</td>\n",
       "      <td>16.3</td>\n",
       "      <td>76.8</td>\n",
       "      <td>21</td>\n",
       "      <td>10</td>\n",
       "      <td>...</td>\n",
       "      <td>0</td>\n",
       "      <td>0</td>\n",
       "      <td>1</td>\n",
       "      <td>0</td>\n",
       "      <td>0</td>\n",
       "      <td>0</td>\n",
       "      <td>0</td>\n",
       "      <td>0</td>\n",
       "      <td>1</td>\n",
       "      <td>0</td>\n",
       "    </tr>\n",
       "    <tr>\n",
       "      <td>2818</td>\n",
       "      <td>23</td>\n",
       "      <td>1</td>\n",
       "      <td>1312</td>\n",
       "      <td>80.0</td>\n",
       "      <td>0.5</td>\n",
       "      <td>0.86</td>\n",
       "      <td>11.9</td>\n",
       "      <td>64.2</td>\n",
       "      <td>25</td>\n",
       "      <td>12</td>\n",
       "      <td>...</td>\n",
       "      <td>1</td>\n",
       "      <td>0</td>\n",
       "      <td>1</td>\n",
       "      <td>0</td>\n",
       "      <td>1</td>\n",
       "      <td>0</td>\n",
       "      <td>0</td>\n",
       "      <td>0</td>\n",
       "      <td>0</td>\n",
       "      <td>0</td>\n",
       "    </tr>\n",
       "    <tr>\n",
       "      <td>2541</td>\n",
       "      <td>23</td>\n",
       "      <td>1</td>\n",
       "      <td>1244</td>\n",
       "      <td>81.1</td>\n",
       "      <td>0.8</td>\n",
       "      <td>0.88</td>\n",
       "      <td>6.1</td>\n",
       "      <td>82.9</td>\n",
       "      <td>28</td>\n",
       "      <td>12</td>\n",
       "      <td>...</td>\n",
       "      <td>0</td>\n",
       "      <td>1</td>\n",
       "      <td>0</td>\n",
       "      <td>1</td>\n",
       "      <td>0</td>\n",
       "      <td>0</td>\n",
       "      <td>0</td>\n",
       "      <td>0</td>\n",
       "      <td>0</td>\n",
       "      <td>1</td>\n",
       "    </tr>\n",
       "    <tr>\n",
       "      <td>4079</td>\n",
       "      <td>10</td>\n",
       "      <td>1</td>\n",
       "      <td>1312</td>\n",
       "      <td>90.1</td>\n",
       "      <td>0.7</td>\n",
       "      <td>0.86</td>\n",
       "      <td>47.5</td>\n",
       "      <td>81.1</td>\n",
       "      <td>15</td>\n",
       "      <td>12</td>\n",
       "      <td>...</td>\n",
       "      <td>1</td>\n",
       "      <td>0</td>\n",
       "      <td>1</td>\n",
       "      <td>0</td>\n",
       "      <td>0</td>\n",
       "      <td>0</td>\n",
       "      <td>1</td>\n",
       "      <td>0</td>\n",
       "      <td>0</td>\n",
       "      <td>0</td>\n",
       "    </tr>\n",
       "    <tr>\n",
       "      <td>...</td>\n",
       "      <td>...</td>\n",
       "      <td>...</td>\n",
       "      <td>...</td>\n",
       "      <td>...</td>\n",
       "      <td>...</td>\n",
       "      <td>...</td>\n",
       "      <td>...</td>\n",
       "      <td>...</td>\n",
       "      <td>...</td>\n",
       "      <td>...</td>\n",
       "      <td>...</td>\n",
       "      <td>...</td>\n",
       "      <td>...</td>\n",
       "      <td>...</td>\n",
       "      <td>...</td>\n",
       "      <td>...</td>\n",
       "      <td>...</td>\n",
       "      <td>...</td>\n",
       "      <td>...</td>\n",
       "      <td>...</td>\n",
       "      <td>...</td>\n",
       "    </tr>\n",
       "    <tr>\n",
       "      <td>1099</td>\n",
       "      <td>22</td>\n",
       "      <td>1</td>\n",
       "      <td>1736</td>\n",
       "      <td>89.0</td>\n",
       "      <td>0.7</td>\n",
       "      <td>0.90</td>\n",
       "      <td>47.5</td>\n",
       "      <td>81.1</td>\n",
       "      <td>23</td>\n",
       "      <td>1</td>\n",
       "      <td>...</td>\n",
       "      <td>0</td>\n",
       "      <td>0</td>\n",
       "      <td>1</td>\n",
       "      <td>0</td>\n",
       "      <td>0</td>\n",
       "      <td>0</td>\n",
       "      <td>1</td>\n",
       "      <td>0</td>\n",
       "      <td>0</td>\n",
       "      <td>0</td>\n",
       "    </tr>\n",
       "    <tr>\n",
       "      <td>2514</td>\n",
       "      <td>7</td>\n",
       "      <td>1</td>\n",
       "      <td>848</td>\n",
       "      <td>92.7</td>\n",
       "      <td>0.4</td>\n",
       "      <td>0.90</td>\n",
       "      <td>16.5</td>\n",
       "      <td>76.8</td>\n",
       "      <td>28</td>\n",
       "      <td>12</td>\n",
       "      <td>...</td>\n",
       "      <td>0</td>\n",
       "      <td>0</td>\n",
       "      <td>0</td>\n",
       "      <td>0</td>\n",
       "      <td>0</td>\n",
       "      <td>0</td>\n",
       "      <td>0</td>\n",
       "      <td>0</td>\n",
       "      <td>1</td>\n",
       "      <td>0</td>\n",
       "    </tr>\n",
       "    <tr>\n",
       "      <td>6637</td>\n",
       "      <td>6</td>\n",
       "      <td>1</td>\n",
       "      <td>848</td>\n",
       "      <td>84.9</td>\n",
       "      <td>0.7</td>\n",
       "      <td>0.90</td>\n",
       "      <td>47.5</td>\n",
       "      <td>81.1</td>\n",
       "      <td>25</td>\n",
       "      <td>11</td>\n",
       "      <td>...</td>\n",
       "      <td>0</td>\n",
       "      <td>0</td>\n",
       "      <td>0</td>\n",
       "      <td>0</td>\n",
       "      <td>0</td>\n",
       "      <td>0</td>\n",
       "      <td>1</td>\n",
       "      <td>0</td>\n",
       "      <td>0</td>\n",
       "      <td>0</td>\n",
       "    </tr>\n",
       "    <tr>\n",
       "      <td>2575</td>\n",
       "      <td>0</td>\n",
       "      <td>1</td>\n",
       "      <td>1736</td>\n",
       "      <td>80.0</td>\n",
       "      <td>0.5</td>\n",
       "      <td>0.90</td>\n",
       "      <td>11.9</td>\n",
       "      <td>64.2</td>\n",
       "      <td>27</td>\n",
       "      <td>12</td>\n",
       "      <td>...</td>\n",
       "      <td>0</td>\n",
       "      <td>0</td>\n",
       "      <td>1</td>\n",
       "      <td>0</td>\n",
       "      <td>1</td>\n",
       "      <td>0</td>\n",
       "      <td>0</td>\n",
       "      <td>0</td>\n",
       "      <td>0</td>\n",
       "      <td>0</td>\n",
       "    </tr>\n",
       "    <tr>\n",
       "      <td>7336</td>\n",
       "      <td>8</td>\n",
       "      <td>1</td>\n",
       "      <td>848</td>\n",
       "      <td>85.0</td>\n",
       "      <td>0.8</td>\n",
       "      <td>0.90</td>\n",
       "      <td>5.4</td>\n",
       "      <td>82.9</td>\n",
       "      <td>20</td>\n",
       "      <td>11</td>\n",
       "      <td>...</td>\n",
       "      <td>0</td>\n",
       "      <td>0</td>\n",
       "      <td>0</td>\n",
       "      <td>0</td>\n",
       "      <td>0</td>\n",
       "      <td>0</td>\n",
       "      <td>0</td>\n",
       "      <td>0</td>\n",
       "      <td>0</td>\n",
       "      <td>1</td>\n",
       "    </tr>\n",
       "  </tbody>\n",
       "</table>\n",
       "<p>8394 rows × 22 columns</p>\n",
       "</div>"
      ],
      "text/plain": [
       "      ARR  Status  Distance  Passenger Load Factor  Airline Rating  \\\n",
       "5489   23       1      1736                   90.1             0.7   \n",
       "9969    3       1      1736                   90.0             0.4   \n",
       "2818   23       1      1312                   80.0             0.5   \n",
       "2541   23       1      1244                   81.1             0.8   \n",
       "4079   10       1      1312                   90.1             0.7   \n",
       "...   ...     ...       ...                    ...             ...   \n",
       "1099   22       1      1736                   89.0             0.7   \n",
       "2514    7       1       848                   92.7             0.4   \n",
       "6637    6       1       848                   84.9             0.7   \n",
       "2575    0       1      1736                   80.0             0.5   \n",
       "7336    8       1       848                   85.0             0.8   \n",
       "\n",
       "      Airport Rating  Market Share  OTP Index  Date  Month  ...  From_CCU  \\\n",
       "5489            0.90          47.5       81.1     4     12  ...         0   \n",
       "9969            0.90          16.3       76.8    21     10  ...         0   \n",
       "2818            0.86          11.9       64.2    25     12  ...         1   \n",
       "2541            0.88           6.1       82.9    28     12  ...         0   \n",
       "4079            0.86          47.5       81.1    15     12  ...         1   \n",
       "...              ...           ...        ...   ...    ...  ...       ...   \n",
       "1099            0.90          47.5       81.1    23      1  ...         0   \n",
       "2514            0.90          16.5       76.8    28     12  ...         0   \n",
       "6637            0.90          47.5       81.1    25     11  ...         0   \n",
       "2575            0.90          11.9       64.2    27     12  ...         0   \n",
       "7336            0.90           5.4       82.9    20     11  ...         0   \n",
       "\n",
       "      From_DEL  To_DEL  To_HYD  Airline_Air India  Airline_Go Air  \\\n",
       "5489         0       1       0                  0               0   \n",
       "9969         0       1       0                  0               0   \n",
       "2818         0       1       0                  1               0   \n",
       "2541         1       0       1                  0               0   \n",
       "4079         0       1       0                  0               0   \n",
       "...        ...     ...     ...                ...             ...   \n",
       "1099         0       1       0                  0               0   \n",
       "2514         0       0       0                  0               0   \n",
       "6637         0       0       0                  0               0   \n",
       "2575         0       1       0                  1               0   \n",
       "7336         0       0       0                  0               0   \n",
       "\n",
       "      Airline_Indigo  Airline_SpiceJet  Airline_Spicejet  Airline_Vistara  \n",
       "5489               1                 0                 0                0  \n",
       "9969               0                 0                 1                0  \n",
       "2818               0                 0                 0                0  \n",
       "2541               0                 0                 0                1  \n",
       "4079               1                 0                 0                0  \n",
       "...              ...               ...               ...              ...  \n",
       "1099               1                 0                 0                0  \n",
       "2514               0                 0                 1                0  \n",
       "6637               1                 0                 0                0  \n",
       "2575               0                 0                 0                0  \n",
       "7336               0                 0                 0                1  \n",
       "\n",
       "[8394 rows x 22 columns]"
      ]
     },
     "execution_count": 178,
     "metadata": {},
     "output_type": "execute_result"
    }
   ],
   "source": [
    "X_train"
   ]
  },
  {
   "cell_type": "code",
   "execution_count": 205,
   "metadata": {},
   "outputs": [
    {
     "name": "stderr",
     "output_type": "stream",
     "text": [
      "c:\\users\\user\\appdata\\local\\programs\\python\\python37\\lib\\site-packages\\sklearn\\model_selection\\_split.py:1978: FutureWarning: The default value of cv will change from 3 to 5 in version 0.22. Specify it explicitly to silence this warning.\n",
      "  warnings.warn(CV_WARNING, FutureWarning)\n"
     ]
    }
   ],
   "source": [
    "import xgboost\n",
    "from sklearn.model_selection import RandomizedSearchCV\n",
    "xgb = xgboost.XGBClassifier(n_estimators = 100,max_depth = 5, learning_rate = 0.1,booster = \"gbtree\",n_jobs = -1,gamma = 0.1,reg_alpha = 0.1, reg_lambda = 0.1,random_state = 1)\n",
    "dist = {\"n_estimators\" : np.arange(100,200), \"max_depth\" : np.arange(2,10), \"learning_rate\" : np.linspace(0.1,1,10),\"gamma\" : np.linspace(0.1,1,10),\"reg_alpha\" : np.linspace(0.1,1,10), \"reg_lambda\" :  np.linspace(0.1,1,10)}\n",
    "RCV = RandomizedSearchCV(xgb,dist,random_state = 2,n_iter = 100)\n",
    "ran_fit = RCV.fit(X_train,y_train)\n",
    "# from sklearn.metrics import accuracy_score\n",
    "\n",
    "# xgb.fit(X_train,y_train)\n"
   ]
  },
  {
   "cell_type": "code",
   "execution_count": 197,
   "metadata": {},
   "outputs": [
    {
     "name": "stdout",
     "output_type": "stream",
     "text": [
      "0.7064569930903026\n",
      "0.5026202953787517\n"
     ]
    }
   ],
   "source": []
  },
  {
   "cell_type": "code",
   "execution_count": 206,
   "metadata": {},
   "outputs": [
    {
     "name": "stdout",
     "output_type": "stream",
     "text": [
      "XGBClassifier(base_score=0.5, booster='gbtree', colsample_bylevel=1,\n",
      "              colsample_bynode=1, colsample_bytree=1, gamma=0.9,\n",
      "              learning_rate=0.2, max_delta_step=0, max_depth=8,\n",
      "              min_child_weight=1, missing=None, n_estimators=139, n_jobs=-1,\n",
      "              nthread=None, objective='multi:softprob', random_state=1,\n",
      "              reg_alpha=0.7000000000000001, reg_lambda=0.8, scale_pos_weight=1,\n",
      "              seed=None, silent=None, subsample=1, verbosity=1)\n"
     ]
    }
   ],
   "source": [
    "print(ran_fit.best_estimator_)"
   ]
  },
  {
   "cell_type": "code",
   "execution_count": 214,
   "metadata": {},
   "outputs": [
    {
     "name": "stdout",
     "output_type": "stream",
     "text": [
      "0.7928282106266381\n",
      "0.49261553120533585\n"
     ]
    }
   ],
   "source": [
    "xgb = xgboost.XGBClassifier(base_score=0.5, booster='gbtree', colsample_bylevel=1,\n",
    "              colsample_bynode=1, colsample_bytree=1, gamma=1.0,\n",
    "              learning_rate=0.30000000000000004, max_delta_step=0, max_depth=8,\n",
    "              min_child_weight=1, missing=None, n_estimators=144, n_jobs=-1,\n",
    "              nthread=None, objective='multi:softprob', random_state=1,\n",
    "              reg_alpha=0.7000000000000001, reg_lambda=0.7000000000000001,\n",
    "              scale_pos_weight=1, seed=None, silent=None, subsample=1,\n",
    "              verbosity=1)\n",
    "xgb.fit(X_train,y_train)\n",
    "print(accuracy_score(xgb.predict(X_train),y_train))\n",
    "print(accuracy_score(xgb.predict(X_test),y_test))"
   ]
  },
  {
   "cell_type": "code",
   "execution_count": 215,
   "metadata": {},
   "outputs": [
    {
     "name": "stdout",
     "output_type": "stream",
     "text": [
      "0.7840123898022396\n",
      "0.4916626965221534\n"
     ]
    }
   ],
   "source": [
    "xgb = xgboost.XGBClassifier(base_score=0.5, booster='gbtree', colsample_bylevel=1,\n",
    "              colsample_bynode=1, colsample_bytree=1, gamma=0.9,\n",
    "              learning_rate=0.2, max_delta_step=0, max_depth=8,\n",
    "              min_child_weight=1, missing=None, n_estimators=139, n_jobs=-1,\n",
    "              nthread=None, objective='multi:softprob', random_state=1,\n",
    "              reg_alpha=0.7000000000000001, reg_lambda=0.8, scale_pos_weight=1,\n",
    "              seed=None, silent=None, subsample=1, verbosity=1)\n",
    "xgb.fit(X_train,y_train)\n",
    "print(accuracy_score(xgb.predict(X_train),y_train))\n",
    "print(accuracy_score(xgb.predict(X_test),y_test))"
   ]
  },
  {
   "cell_type": "code",
   "execution_count": 216,
   "metadata": {},
   "outputs": [
    {
     "data": {
      "text/plain": [
       "(array([ 7, 22, 25, 27, 28, 31], dtype=int64),)"
      ]
     },
     "execution_count": 216,
     "metadata": {},
     "output_type": "execute_result"
    }
   ],
   "source": [
    "np.where(xgb.feature_importances_ == 0)"
   ]
  },
  {
   "cell_type": "code",
   "execution_count": null,
   "metadata": {},
   "outputs": [],
   "source": []
  },
  {
   "cell_type": "code",
   "execution_count": null,
   "metadata": {},
   "outputs": [],
   "source": []
  }
 ],
 "metadata": {
  "kernelspec": {
   "display_name": "Python 3",
   "language": "python",
   "name": "python3"
  },
  "language_info": {
   "codemirror_mode": {
    "name": "ipython",
    "version": 3
   },
   "file_extension": ".py",
   "mimetype": "text/x-python",
   "name": "python",
   "nbconvert_exporter": "python",
   "pygments_lexer": "ipython3",
   "version": "3.7.6"
  }
 },
 "nbformat": 4,
 "nbformat_minor": 2
}
